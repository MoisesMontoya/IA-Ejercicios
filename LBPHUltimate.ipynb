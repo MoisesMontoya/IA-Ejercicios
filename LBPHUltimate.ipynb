{
 "cells": [
  {
   "cell_type": "code",
   "execution_count": 1,
   "id": "f3d4a142-c822-4c00-80ab-253364637800",
   "metadata": {},
   "outputs": [],
   "source": [
    "import cv2 as cv\n",
    "import os \n",
    "import numpy as np "
   ]
  },
  {
   "cell_type": "markdown",
   "id": "39c110f4-0df7-4ce2-8dee-7abf16eed2ea",
   "metadata": {},
   "source": [
    "Acceso de Camara codigo en LBPH"
   ]
  },
  {
   "cell_type": "code",
   "execution_count": 2,
   "id": "2f74b28e-2e33-4a7d-af0b-5d9987828334",
   "metadata": {},
   "outputs": [
    {
     "name": "stdout",
     "output_type": "stream",
     "text": [
      "['Angel', 'Dancy', 'Edgar', 'George', 'Joeeee', 'jonhy', 'Leo', 'LeoC', 'moy', 'Pancho']\n"
     ]
    }
   ],
   "source": [
    "dataSet = 'C:\\\\Users\\\\MsMon\\\\Desktop\\\\Proyectos\\\\IA\\\\dataset\\\\Persones'\n",
    "faces  = os.listdir(dataSet)\n",
    "print(faces)\n",
    "\n",
    "labels = []\n",
    "facesData = []\n",
    "label = 0 \n",
    "for face in faces:\n",
    "    facePath = dataSet+'\\\\'+face\n",
    "    for faceName in os.listdir(facePath):\n",
    "        labels.append(label)\n",
    "        facesData.append(cv.imread(facePath+'\\\\'+faceName,0))\n",
    "    label = label + 1\n",
    "#print(np.count_nonzero(np.array(labels)==0)) \n",
    "faceRecognizer = cv.face.LBPHFaceRecognizer_create()\n",
    "faceRecognizer.train(facesData, np.array(labels))\n",
    "faceRecognizer.write('C:\\\\Users\\\\MsMon\\\\Desktop\\\\Proyectos\\\\IA\\\\dataset\\\\LBPHPersonesFix2.xml')"
   ]
  },
  {
   "cell_type": "markdown",
   "id": "d64c7104-61c1-4a9b-b0a9-63c78260a8a7",
   "metadata": {},
   "source": [
    "Generacion de Codigo XML para el Reconocimiento Facial."
   ]
  },
  {
   "cell_type": "code",
   "execution_count": 2,
   "id": "cc683f8e-99d5-499a-b93a-389180b5a992",
   "metadata": {},
   "outputs": [],
   "source": [
    "import cv2 as cv\n",
    "import os \n",
    "\n",
    "faceRecognizer = cv.face.LBPHFaceRecognizer_create()\n",
    "faceRecognizer.read('C:\\\\Users\\\\MsMon\\\\Desktop\\\\Proyectos\\\\IA\\\\dataset\\\\LBPHPersonesFix2.xml')\n",
    "dataSet = 'C:\\\\Users\\\\MsMon\\\\Desktop\\\\Proyectos\\\\IA\\\\dataset\\\\Persones'\n",
    "faces  = os.listdir(dataSet)\n",
    "cap = cv.VideoCapture(1)\n",
    "rostro = cv.CascadeClassifier('C:\\\\Users\\\\MsMon\\\\Desktop\\\\Proyectos\\\\IA\\\\haarcascade_frontalface_alt.xml')\n",
    "while True:\n",
    "    ret, frame = cap.read()\n",
    "    if ret == False: break\n",
    "    gray = cv.cvtColor(frame, cv.COLOR_BGR2GRAY)\n",
    "    cpGray = gray.copy()\n",
    "    rostros = rostro.detectMultiScale(gray, 1.3, 3)\n",
    "    for(x, y, w, h) in rostros:\n",
    "        frame2 = cpGray[y:y+h, x:x+w]\n",
    "        frame2 = cv.resize(frame2,  (100,100), interpolation=cv.INTER_CUBIC)\n",
    "        result = faceRecognizer.predict(frame2)\n",
    "        cv.putText(frame, '{}'.format(result), (x,y-20), 1,3.3, (255,255,0), 1, cv.LINE_AA)\n",
    "        if result[1] < 100:\n",
    "            cv.putText(frame,'{}'.format(faces[result[0]]),(x,y-25),2,1.1,(0,255,0),1,cv.LINE_AA)\n",
    "            cv.rectangle(frame, (x,y),(x+w,y+h),(0,255,0),2)\n",
    "        else:\n",
    "            cv.putText(frame,'Desconocido',(x,y-20),2,0.8,(0,0,255),1,cv.LINE_AA)\n",
    "            cv.rectangle(frame, (x,y),(x+w,y+h),(0,0,255),2) \n",
    "    cv.imshow('frame', frame)\n",
    "    k = cv.waitKey(1)\n",
    "    if k == 27:\n",
    "        break\n",
    "cap.release()\n",
    "cv.destroyAllWindows()"
   ]
  },
  {
   "cell_type": "markdown",
   "id": "b879c716-c2ce-4f86-ad72-8a36bdf2d088",
   "metadata": {},
   "source": [
    "Codigo para la identificación de emociones"
   ]
  },
  {
   "cell_type": "code",
   "execution_count": null,
   "id": "5a6d39da-359c-44b0-b62e-3ba170fcecc6",
   "metadata": {},
   "outputs": [],
   "source": [
    "import cv2 as cv\n",
    "import os \n",
    "\n",
    "faceRecognizer = cv.face.LBPHFaceRecognizer_create()\n",
    "faceRecognizer.read('C:\\\\Users\\\\MsMon\\\\Desktop\\\\Proyectos\\\\IA\\\\dataset\\\\EmocionesLBPHZwei.xml')\n",
    "dataSet = 'C:\\\\Users\\\\MsMon\\\\Desktop\\\\Proyectos\\\\IA\\\\dataset\\\\Emociones3'\n",
    "faces  = os.listdir(dataSet)\n",
    "cap = cv.VideoCapture(0)\n",
    "rostro = cv.CascadeClassifier('C:\\\\Users\\\\MsMon\\\\Desktop\\\\Proyectos\\\\IA\\\\haarcascade_frontalface_alt.xml')\n",
    "while True:\n",
    "    ret, frame = cap.read()\n",
    "    if ret == False: break\n",
    "    gray = cv.cvtColor(frame, cv.COLOR_BGR2GRAY)\n",
    "    cpGray = gray.copy()\n",
    "    rostros = rostro.detectMultiScale(gray, 1.3, 3)\n",
    "    for(x, y, w, h) in rostros:\n",
    "        frame2 = cpGray[y:y+h, x:x+w]\n",
    "        frame2 = cv.resize(frame2,  (100,100), interpolation=cv.INTER_CUBIC)\n",
    "        result = faceRecognizer.predict(frame2)\n",
    "        cv.putText(frame, '{}'.format(result), (x,y-20), 1,3.3, (255,255,0), 1, cv.LINE_AA)\n",
    "        if result[1] < 100:\n",
    "            cv.putText(frame,'{}'.format(faces[result[0]]),(x,y-25),2,1.1,(0,255,0),1,cv.LINE_AA)\n",
    "            cv.rectangle(frame, (x,y),(x+w,y+h),(0,255,0),2)\n",
    "        else:\n",
    "            cv.putText(frame,'Desconocido',(x,y-20),2,0.8,(0,0,255),1,cv.LINE_AA)\n",
    "            cv.rectangle(frame, (x,y),(x+w,y+h),(0,0,255),2) \n",
    "    cv.imshow('frame', frame)\n",
    "    k = cv.waitKey(1)\n",
    "    if k == 27:\n",
    "        break\n",
    "cap.release()\n",
    "cv.destroyAllWindows()"
   ]
  },
  {
   "cell_type": "code",
   "execution_count": null,
   "id": "74b08322-b0fb-4d8a-913d-5a79fbe026a3",
   "metadata": {},
   "outputs": [],
   "source": []
  }
 ],
 "metadata": {
  "kernelspec": {
   "display_name": "Python 3 (ipykernel)",
   "language": "python",
   "name": "python3"
  },
  "language_info": {
   "codemirror_mode": {
    "name": "ipython",
    "version": 3
   },
   "file_extension": ".py",
   "mimetype": "text/x-python",
   "name": "python",
   "nbconvert_exporter": "python",
   "pygments_lexer": "ipython3",
   "version": "3.11.7"
  }
 },
 "nbformat": 4,
 "nbformat_minor": 5
}
