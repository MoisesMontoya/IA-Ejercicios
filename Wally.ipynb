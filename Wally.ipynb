{
 "cells": [
  {
   "cell_type": "markdown",
   "id": "8f7feff1-f4a7-4dcb-b003-2f525dc870ce",
   "metadata": {},
   "source": [
    "Buscando a Wally"
   ]
  },
  {
   "cell_type": "code",
   "execution_count": null,
   "id": "7b5e16f9-0739-43a6-88da-697931411c34",
   "metadata": {},
   "outputs": [],
   "source": [
    "import numpy as np\n",
    "import cv2 as cv\n",
    "\n",
    "# Cargar el clasificador entrenado\n",
    "rostro = cv.CascadeClassifier('C:\\\\Users\\\\joel_\\\\14.xml')\n",
    "\n",
    "# Cargar la imagen de Wally\n",
    "img = cv.imread('C:\\\\Users\\\\joel_\\\\wally\\\\2.png')\n",
    "\n",
    "# Convertir la imagen a escala de grises\n",
    "gray = cv.cvtColor(img, cv.COLOR_BGR2GRAY)\n",
    "\n",
    "# Detectar rostros en la imagen\n",
    "rostros = rostro.detectMultiScale(gray, 1.3, 5)\n",
    "\n",
    "# Procesar cada rostro detectado\n",
    "for (x, y, w, h) in rostros:\n",
    "    # Dibujar un rectángulo verde alrededor del rostro detectado\n",
    "    img = cv.rectangle(img, (x, y), (x + w, y + h), (0, 255, 0), 2)\n",
    "\n",
    "# Mostrar la imagen con los rostros detectados y los rectángulos\n",
    "cv.imshow('rostros', img)\n",
    "cv.waitKey(0)\n",
    "cv.destroyAllWindows()"
   ]
  }
 ],
 "metadata": {
  "kernelspec": {
   "display_name": "Python 3 (ipykernel)",
   "language": "python",
   "name": "python3"
  },
  "language_info": {
   "codemirror_mode": {
    "name": "ipython",
    "version": 3
   },
   "file_extension": ".py",
   "mimetype": "text/x-python",
   "name": "python",
   "nbconvert_exporter": "python",
   "pygments_lexer": "ipython3",
   "version": "3.11.7"
  }
 },
 "nbformat": 4,
 "nbformat_minor": 5
}
