{
 "cells": [
  {
   "cell_type": "code",
   "execution_count": null,
   "id": "f243efb8-a4f6-4a48-8c71-04a78e201f8b",
   "metadata": {},
   "outputs": [],
   "source": [
    "import numpy as np\n",
    "import cv2 as cv\n",
    "\n",
    "cap = cv.VideoCapture(\"C:\\\\Users\\\\MsMon\\\\Desktop\\\\Proyectos\\\\IA\\\\Desastres\\\\tor2.mp4\")\n",
    "if not cap.isOpened():\n",
    "    print(\"Error: No se pudo abrir el archivo de video.\")\n",
    "    exit()\n",
    "i = 0\n",
    "while True:\n",
    "    ret, frame = cap.read()\n",
    "    if not ret:\n",
    "        print(\"Fin del video.\")\n",
    "        break\n",
    "    cv.imshow('img', frame)\n",
    "    k = cv.waitKey(1)\n",
    "    # Redimensionar la imagen a 28x28\n",
    "    resized_frame = cv.resize(frame, (28, 28))\n",
    "    # Guardar la imagen redimensionada\n",
    "    cv.imwrite('C:\\\\Users\\\\MsMon\\\\Desktop\\\\Proyectos\\\\IA\\\\Desastres\\\\tornado'+str(i)+'.png', resized_frame)\n",
    "    i += 1\n",
    "    if k == 27:\n",
    "        break\n",
    "cap.release()\n",
    "cv.destroyAllWindows()"
   ]
  },
  {
   "cell_type": "code",
   "execution_count": null,
   "id": "ef6fd458-c65f-42ea-97ed-04f98086c8e4",
   "metadata": {},
   "outputs": [],
   "source": []
  }
 ],
 "metadata": {
  "kernelspec": {
   "display_name": "Python 3 (ipykernel)",
   "language": "python",
   "name": "python3"
  },
  "language_info": {
   "codemirror_mode": {
    "name": "ipython",
    "version": 3
   },
   "file_extension": ".py",
   "mimetype": "text/x-python",
   "name": "python",
   "nbconvert_exporter": "python",
   "pygments_lexer": "ipython3",
   "version": "3.11.7"
  }
 },
 "nbformat": 4,
 "nbformat_minor": 5
}
