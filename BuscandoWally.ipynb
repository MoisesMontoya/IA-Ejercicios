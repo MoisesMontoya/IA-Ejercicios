{
 "cells": [
  {
   "cell_type": "code",
   "execution_count": null,
   "id": "da608db7-5d5d-467d-901d-22182ff9dfcd",
   "metadata": {},
   "outputs": [],
   "source": [
    "import cv2 as cv\n",
    "import os\n",
    "import numpy as np"
   ]
  },
  {
   "cell_type": "code",
   "execution_count": null,
   "id": "f93d09e3-21d1-4f19-a211-3f45f1cab5d9",
   "metadata": {},
   "outputs": [],
   "source": [
    "def rota(img, i):\n",
    "    for j in range(10, 361, 20):\n",
    "        h, w = img.shape[:2]\n",
    "        mw = cv.getRotationMatrix2D((h // 2, w // 2), j, -1)\n",
    "        img2 = cv.warpAffine(img, mw, (h, w))\n",
    "        cv.imwrite('C:\\Users\\MsMon\\Desktop\\Proyectos\\IA\\media\\Willy\\Willy' + str(i) + '_' + str(j) + '.png', img2)\n",
    "    "
   ]
  },
  {
   "cell_type": "code",
   "execution_count": null,
   "id": "8bf1c1e7-2d1a-4b37-8734-dbc9ffdb0367",
   "metadata": {},
   "outputs": [],
   "source": [
    "def escalagris(img,1)\n",
    "gray = cv.cvtColor(img, cv.Color_BGR2GRAY)\n",
    "cv.imwrite('C:\\Users\\MsMon\\Desktop\\Proyectos\\IA\\media\\Willy\\Willy'+str(i)+'.jpg',gray)"
   ]
  },
  {
   "cell_type": "code",
   "execution_count": null,
   "id": "ef69af13-42d3-40fb-aecc-bc853c93b691",
   "metadata": {},
   "outputs": [],
   "source": [
    "def escalaimagen(img, 1)\n",
    "    img = "
   ]
  },
  {
   "cell_type": "code",
   "execution_count": null,
   "id": "af9eb221-0495-4487-968d-7d14fe4d2ea9",
   "metadata": {},
   "outputs": [],
   "source": [
    "i=0\n",
    "imgPaths = \"C:\\Users\\MsMon\\Desktop\\Proyectos\\IA\\media\\Willy\\Willy\"\n",
    "nomFiles = os.listdir(imgPaths)\n",
    "for nomFiles in nomFiles:\n",
    "    i=i+1\n",
    "    imgPath=imgPaths+\"/\"+nomFiles\n",
    "    img=cv.imread(imgPath)\n",
    "    rota(img,i)"
   ]
  },
  {
   "cell_type": "code",
   "execution_count": null,
   "id": "557c9a08-9eb5-4781-a0e1-b238bc338360",
   "metadata": {},
   "outputs": [],
   "source": []
  }
 ],
 "metadata": {
  "kernelspec": {
   "display_name": "Python 3 (ipykernel)",
   "language": "python",
   "name": "python3"
  },
  "language_info": {
   "codemirror_mode": {
    "name": "ipython",
    "version": 3
   },
   "file_extension": ".py",
   "mimetype": "text/x-python",
   "name": "python",
   "nbconvert_exporter": "python",
   "pygments_lexer": "ipython3",
   "version": "3.11.7"
  }
 },
 "nbformat": 4,
 "nbformat_minor": 5
}
