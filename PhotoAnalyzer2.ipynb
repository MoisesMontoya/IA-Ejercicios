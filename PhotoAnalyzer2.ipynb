{
 "cells": [
  {
   "cell_type": "code",
   "execution_count": 2,
   "id": "ca8dbe83",
   "metadata": {},
   "outputs": [],
   "source": [
    "import cv2 as cv"
   ]
  },
  {
   "cell_type": "markdown",
   "id": "e9842939",
   "metadata": {},
   "source": [
    "Se busca en la imagen y se filtra por escala de rojo."
   ]
  },
  {
   "cell_type": "code",
   "execution_count": null,
   "id": "a17861ed",
   "metadata": {},
   "outputs": [],
   "source": [
    "img = cv.imread('C:\\\\Users\\\\MsMon\\\\Desktop\\\\Proyectos\\\\IA\\\\media\\\\imagenprueba.jpg')\n",
    "img2 = cv.cvtColor(img, cv.COLOR_BGR2HSV)\n",
    "ubb = (0, 60, 60)\n",
    "uba = (10, 255, 255)\n",
    "\n",
    "ubb1 = (170, 60, 60)\n",
    "uba1 = (180, 255, 255)\n",
    "\n",
    "ubb2=(0,255,165)\n",
    "uba3=(126,86,36)\n",
    "\n",
    "mask1 = cv.inRange(img2, ubb, uba)\n",
    "mask2 = cv.inRange(img2, ubb1, uba1)\n",
    "mask3 = mask1 + mask2\n",
    "mask4 = cv.inRange(img2,ubb2,ubb2)\n",
    "mask4 = mask3 + mask4\n",
    "\n",
    "img3 = cv.bitwise_and(img, img, mask = mask3)\n",
    "\n",
    "cv.imshow('img2', img2)\n",
    "cv.imshow('img', img)\n",
    "cv.imshow('img3', img3)\n",
    "cv.imshow('mask3', mask3)\n",
    "\n",
    "cv.waitKey(0)\n",
    "cv.destroyAllWindows()"
   ]
  },
  {
   "cell_type": "code",
   "execution_count": null,
   "id": "05e8488c",
   "metadata": {},
   "outputs": [],
   "source": [
    "cap = cv.VideoCapture(0)\n",
    "while(True):\n",
    "    ret, img = cap.read()\n",
    "    if ret == True:\n",
    "        cv.imshow('video', img)\n",
    "        k = cv.waitKey(1) & 0xFF\n",
    "        if k == 27 :\n",
    "            break\n",
    "    else:\n",
    "        break\n",
    "cap.release()\n",
    "cv.destroyAllWindows()"
   ]
  },
  {
   "cell_type": "code",
   "execution_count": null,
   "id": "e53c4777",
   "metadata": {},
   "outputs": [],
   "source": [
    "cap = cv.VideoCapture(0)\n",
    "while(True):\n",
    "    ret, img = cap.read()\n",
    "    img2 = cv.cvtColor(img, cv.COLOR_BGR2HSV)\n",
    "    if ret == True:\n",
    "        cv.imshow('video', img)\n",
    "        cv.imshow('video2', img2)\n",
    "        k = cv.waitKey(1) & 0xFF\n",
    "        if k == 27 :\n",
    "            break\n",
    "    else:\n",
    "        break\n",
    "cap.release()\n",
    "cv.destroyAllWindows()"
   ]
  },
  {
   "cell_type": "code",
   "execution_count": null,
   "id": "cc98c64b",
   "metadata": {},
   "outputs": [],
   "source": [
    "cap = cv.VideoCapture(0)\n",
    "while(True):\n",
    "    ret, img = cap.read()\n",
    "    r,g,b = cv.split(img)\n",
    "    #img2 = cv.cvtColor(img, cv.COLOR_BGR2HSV)\n",
    "    if ret == True:\n",
    "        cv.imshow('video', img)\n",
    "        #cv.imshow('video2', img2)\n",
    "        cv.imshow('r', r)\n",
    "        cv.imshow('g', g)\n",
    "        cv.imshow('b', b)\n",
    "        k = cv.waitKey(1) & 0xFF\n",
    "        if k == 27 :\n",
    "            break\n",
    "    else:\n",
    "        break\n",
    "cap.release()\n",
    "cv.destroyAllWindows()"
   ]
  },
  {
   "cell_type": "code",
   "execution_count": null,
   "id": "e1b0dfcc",
   "metadata": {},
   "outputs": [],
   "source": []
  }
 ],
 "metadata": {
  "kernelspec": {
   "display_name": "Python 3 (ipykernel)",
   "language": "python",
   "name": "python3"
  },
  "language_info": {
   "codemirror_mode": {
    "name": "ipython",
    "version": 3
   },
   "file_extension": ".py",
   "mimetype": "text/x-python",
   "name": "python",
   "nbconvert_exporter": "python",
   "pygments_lexer": "ipython3",
   "version": "3.11.7"
  }
 },
 "nbformat": 4,
 "nbformat_minor": 5
}
