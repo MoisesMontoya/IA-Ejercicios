{
 "cells": [
  {
   "cell_type": "code",
   "execution_count": 2,
   "id": "02343d04-b39f-43fb-a8e9-35074e1133e3",
   "metadata": {},
   "outputs": [],
   "source": [
    "import numpy as np\n",
    "import cv2 as cv\n",
    "import math \n",
    "\n",
    "rostro = cv.CascadeClassifier('C:\\\\Users\\\\MsMon\\\\Desktop\\\\Proyectos\\\\IA\\\\media\\\\haarcascade_frontalface_alt.xml')"
   ]
  },
  {
   "cell_type": "markdown",
   "id": "7536451d-df7a-4671-994f-8b2cd5f809b6",
   "metadata": {},
   "source": [
    "# Nota\n",
    "Aquí se importan las librerias que ocupamos para cv, pero de igual forma leemos el archivo de _haarcascade_frontalface_alt.xml_,\n",
    "esto para que nos ayude a la deteccion del rostro (archivo proporcionado pro el maestro)"
   ]
  },
  {
   "cell_type": "code",
   "execution_count": 3,
   "id": "bbde5ef6-d00d-4367-90be-17bdc923c618",
   "metadata": {},
   "outputs": [],
   "source": [
    "cap = cv.VideoCapture(0) #con camara de la lap\n",
    "i=0\n",
    "while True:\n",
    "    ret, frame = cap.read()\n",
    "    gray = cv.cvtColor(frame, cv.COLOR_BGR2GRAY)\n",
    "    rostros = rostro.detectMultiScale(gray, 1.3, 5)\n",
    "    for(x, y, w, h) in rostros:\n",
    "        frame2=frame[y:y+h, x:x+w]\n",
    "        cv.imshow('rostros2',frame2)\n",
    "        frame2 = cv.resize(frame2, (100,100), interpolation = cv.INTER_AREA)\n",
    "        cv.imwrite('C:\\\\Users\\\\MsMon\\\\Desktop\\\\Proyectos\\\\IA\\\\dataset\\\\moy'+str(i)+'.png',frame2)\n",
    "    cv.imshow('rostros', frame)\n",
    "    i=i+1\n",
    "    k = cv.waitKey(1)\n",
    "    if k == 27:\n",
    "        break\n",
    "cap.release()\n",
    "cv.destroyAllWindows()"
   ]
  },
  {
   "cell_type": "markdown",
   "id": "360d1030-ef56-434a-b560-d73ea79b78d6",
   "metadata": {},
   "source": [
    "Si se desea ingresar un tipo de archivo de video para poder generar el dataset se debera utilizar el siguiente codigo"
   ]
  },
  {
   "cell_type": "code",
   "execution_count": null,
   "id": "42515c48-cbcc-4d0a-8759-5184089780f5",
   "metadata": {},
   "outputs": [],
   "source": [
    "# Ruta al archivo de video\n",
    "video_path = 'D:\\\\Escuela Betin\\\\9no Sem\\\\3. Inteligencia Artificial\\\\rostros_img\\\\jonhy\\\\jon.mp4'\n",
    "\n",
    "# Crear objeto de captura de video\n",
    "cap = cv.VideoCapture(video_path)\n",
    "i=0\n",
    "while True:\n",
    "    ret, frame = cap.read()\n",
    "    gray = cv.cvtColor(frame, cv.COLOR_BGR2GRAY)\n",
    "    rostros = rostro.detectMultiScale(gray, 1.3, 5)\n",
    "    for(x, y, w, h) in rostros:\n",
    "        frame = cv.rectangle(frame, (x,y), (x+w, y+h), (255, 0, 0), 5)\n",
    "        frame2=frame[y:y+h, x:x+w]\n",
    "        cv.imshow('rostros2',frame2)\n",
    "        frame2 = cv.resize(frame2, (100,100), interpolation = cv.INTER_AREA)\n",
    "        cv.imwrite('D:\\\\Escuela Betin\\\\9no Sem\\\\3. Inteligencia Artificial\\\\rostros_img\\\\jonhy\\\\'+str(i)+'.png',frame2)\n",
    "    cv.imshow('rostros', frame)\n",
    "    i=i+1\n",
    "    k = cv.waitKey(1)\n",
    "    if k == 27:\n",
    "        break\n",
    "cap.release()\n",
    "cv.destroyAllWindows()"
   ]
  },
  {
   "cell_type": "markdown",
   "id": "3a9db9be-16cd-4beb-be32-ad7f0da7d4e9",
   "metadata": {},
   "source": [
    "# Nota\n",
    "Aquí se abre la camara de nuestro dispositivo esto para empezar a capturar nuestro rostro y tomar nuestro dataset, con una dimención especifica, en la carpeta que le estamos dando dado en el codigo:\n",
    "\n",
    "```\n",
    "cv.imwrite('D:\\\\Escuela Betin\\\\9no Sem\\\\3. Inteligencia Artificial\\\\rostros_img\\\\jonhy\\\\'+str(i)+'.png',frame2)\n",
    "```\n",
    "Y nostros detenemos dicha accion dando Esc"
   ]
  },
  {
   "cell_type": "code",
   "execution_count": null,
   "id": "05cecfb6-a2f6-4513-a34d-7ceb14ad2363",
   "metadata": {},
   "outputs": [],
   "source": [
    "import cv2 as cv \n",
    "import numpy as np \n",
    "import os\n",
    "\n",
    "dataSet = 'D:\\\\Escuela Betin\\\\9no Sem\\\\3. Inteligencia Artificial\\\\rostros_img'\n",
    "faces  = os.listdir(dataSet)\n",
    "print(faces)\n",
    "\n",
    "labels = []\n",
    "facesData = []\n",
    "label = 0 \n",
    "for face in faces:\n",
    "    facePath = dataSet+'\\\\'+face\n",
    "    for faceName in os.listdir(facePath):\n",
    "        labels.append(label)\n",
    "        facesData.append(cv.imread(facePath+'\\\\'+faceName,0))\n",
    "    label = label + 1\n",
    "print(np.count_nonzero(np.array(labels)==0)) \n",
    "\n",
    "faceRecognizer = cv.face.EigenFaceRecognizer_create()\n",
    "faceRecognizer.train(facesData, np.array(labels))\n",
    "faceRecognizer.write('D:\\\\Escuela Betin\\\\9no Sem\\\\3. Inteligencia Artificial\\\\rostros_img\\\\Eigenface.xml')\n"
   ]
  },
  {
   "cell_type": "markdown",
   "id": "477b8e03-0cf6-4c20-9640-3d09db2436a4",
   "metadata": {},
   "source": [
    "# Nota\n",
    "En este caso, tomando en cuenta todos nuestros rostros o dataset, que ya generamos y guardamos. Creamos nuestro archivo .xml, con el nombre que nostros le queramos generar, en este caso en esta llinea de codigo:}\n",
    "```\n",
    "faceRecognizer.write('D:\\\\Escuela Betin\\\\9no Sem\\\\3. Inteligencia Artificial\\\\rostros_img\\\\Eigenface.xml')\n",
    "```"
   ]
  },
  {
   "cell_type": "code",
   "execution_count": null,
   "id": "90ed185f-8c25-4af7-bace-a02f41a0aa70",
   "metadata": {},
   "outputs": [],
   "source": [
    "import cv2 as cv\n",
    "import os \n",
    "\n",
    "faceRecognizer = cv.face.EigenFaceRecognizer_create()\n",
    "faceRecognizer.read('D:\\\\Escuela Betin\\\\9no Sem\\\\3. Inteligencia Artificial\\\\rostros_img\\\\Eigenface.xml')\n",
    "\n",
    "cap = cv.VideoCapture(0)\n",
    "rostro = cv.CascadeClassifier('D:\\\\Escuela Betin\\\\9no Sem\\\\3. Inteligencia Artificial\\\\Material de clase\\\\haarcascade_frontalface_alt.xml')\n",
    "while True:\n",
    "    ret, frame = cap.read()\n",
    "    if ret == False: break\n",
    "    gray = cv.cvtColor(frame, cv.COLOR_BGR2GRAY)\n",
    "    cpGray = gray.copy()\n",
    "    rostros = rostro.detectMultiScale(gray, 1.3, 3)\n",
    "    for(x, y, w, h) in rostros:\n",
    "        frame2 = cpGray[y:y+h, x:x+w]\n",
    "        frame2 = cv.resize(frame2,  (100,100), interpolation=cv.INTER_CUBIC)\n",
    "        result = faceRecognizer.predict(frame2)\n",
    "        #cv.putText(frame, '{}'.format(result), (x,y-20), 1,3.3, (0,0,0), 1, cv.LINE_AA)\n",
    "        if result[1] > 2800:\n",
    "            cv.putText(frame,'{}'.format(faces[result[0]]),(x,y-25),2,1.1,(0,255,0),1,cv.LINE_AA)\n",
    "            cv.rectangle(frame, (x,y),(x+w,y+h),(0,255,0),2)\n",
    "        else:\n",
    "            cv.putText(frame,'Desconocido',(x,y-20),2,0.8,(0,0,255),1,cv.LINE_AA)\n",
    "            cv.rectangle(frame, (x,y),(x+w,y+h),(0,0,255),2)\n",
    "    cv.imshow('frame', frame)\n",
    "    k = cv.waitKey(1)\n",
    "    if k == 27:\n",
    "            break\n",
    "cap.release()\n",
    "cv.destroyAllWindows()"
   ]
  },
  {
   "cell_type": "markdown",
   "id": "8cf62853-1a75-4e64-946c-a1606f1cfc7c",
   "metadata": {},
   "source": [
    "# Nota\n",
    "Aquí mandamos a llamar el el archivo .xml, teniendo en cuenta esto carga el documento y empezamos a ver como funciona el detector de rostros"
   ]
  },
  {
   "cell_type": "code",
   "execution_count": null,
   "id": "f71396b0-94b4-4439-a8fd-457968e52e96",
   "metadata": {},
   "outputs": [],
   "source": [
    "import cv2\n",
    "print(cv2.__version__)"
   ]
  }
 ],
 "metadata": {
  "kernelspec": {
   "display_name": "Python 3 (ipykernel)",
   "language": "python",
   "name": "python3"
  },
  "language_info": {
   "codemirror_mode": {
    "name": "ipython",
    "version": 3
   },
   "file_extension": ".py",
   "mimetype": "text/x-python",
   "name": "python",
   "nbconvert_exporter": "python",
   "pygments_lexer": "ipython3",
   "version": "3.11.7"
  }
 },
 "nbformat": 4,
 "nbformat_minor": 5
}
