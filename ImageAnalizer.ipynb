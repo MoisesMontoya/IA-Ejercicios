{
 "cells": [
  {
   "cell_type": "code",
   "execution_count": 1,
   "id": "a7427e37",
   "metadata": {},
   "outputs": [
    {
     "ename": "ModuleNotFoundError",
     "evalue": "No module named 'cv2'",
     "output_type": "error",
     "traceback": [
      "\u001b[1;31m---------------------------------------------------------------------------\u001b[0m",
      "\u001b[1;31mModuleNotFoundError\u001b[0m                       Traceback (most recent call last)",
      "Cell \u001b[1;32mIn[1], line 1\u001b[0m\n\u001b[1;32m----> 1\u001b[0m \u001b[38;5;28;01mimport\u001b[39;00m \u001b[38;5;21;01mcv2\u001b[39;00m \u001b[38;5;28;01mas\u001b[39;00m \u001b[38;5;21;01mcv\u001b[39;00m\n\u001b[0;32m      2\u001b[0m \u001b[38;5;28;01mimport\u001b[39;00m \u001b[38;5;21;01mnumpy\u001b[39;00m \u001b[38;5;28;01mas\u001b[39;00m \u001b[38;5;21;01mnp\u001b[39;00m\n",
      "\u001b[1;31mModuleNotFoundError\u001b[0m: No module named 'cv2'"
     ]
    }
   ],
   "source": [
    "import cv2 as cv\n",
    "import numpy as np"
   ]
  },
  {
   "cell_type": "markdown",
   "id": "93779451",
   "metadata": {},
   "source": [
    "Escala para distintos tamaños."
   ]
  },
  {
   "cell_type": "code",
   "execution_count": null,
   "id": "7de229b4",
   "metadata": {},
   "outputs": [],
   "source": [
    "def escala(imx, escala):\n",
    "    width = int(imx.shape[1] * escala/100)\n",
    "    height = int(imx.shape[0] * escala/100)\n",
    "    size = (width, height)\n",
    "    im = cv.resize(imx, size, interpolation = cv.INTER_AREA)\n",
    "    return im"
   ]
  },
  {
   "cell_type": "markdown",
   "id": "4a85122a",
   "metadata": {},
   "source": [
    "Utiliando la funcion de escala para escalar la imagen a un 200%"
   ]
  },
  {
   "cell_type": "code",
   "execution_count": null,
   "id": "11435583",
   "metadata": {},
   "outputs": [],
   "source": [
    "img = cv.imread('C:\\\\Users\\\\MsMon\\\\Desktop\\\\Proyectos\\\\IA\\\\media\\\\imagenprueba.jpg', 1)\n",
    "img2 = escala(img, 200)\n",
    "cv.imshow('img', img)\n",
    "cv.imshow('img2', img2)\n",
    "cv.waitKey(0)\n",
    "cv.destroyAllWindows()"
   ]
  },
  {
   "cell_type": "markdown",
   "id": "76c673b1",
   "metadata": {},
   "source": [
    "Jugando con los canales de colores para conseguir combinaciones y extraer colores y su representacion"
   ]
  },
  {
   "cell_type": "code",
   "execution_count": null,
   "id": "9b7d310a",
   "metadata": {},
   "outputs": [],
   "source": [
    "img = cv.imread('C:\\\\Users\\\\MsMon\\\\Desktop\\\\Proyectos\\\\IA\\\\media\\\\imagenprueba.jpg', 1)\n",
    "w, h = img.shape[:2]\n",
    "img2 = np.zeros((w, h), dtype='uint8')\n",
    "\n",
    "r,g,b = cv.split(img)\n",
    "#r = cv.merge([r, img2, img2])\n",
    "#g = cv.merge([img2, g, img2])\n",
    "#b = cv.merge([img2, img2, b])\n",
    "\n",
    "r1 = cv.merge([g, r, b])\n",
    "g1 = cv.merge([r, b, g])\n",
    "b1 = cv.merge([b, r, g])\n",
    "\n",
    "cv.imshow('r', r1)\n",
    "cv.imshow('g', g1)\n",
    "cv.imshow('b', b1)\n",
    "cv.waitKey(0)\n",
    "cv.destroyAllWindows()"
   ]
  },
  {
   "cell_type": "markdown",
   "id": "ae7a8fea",
   "metadata": {},
   "source": [
    "Transformando la imagen"
   ]
  },
  {
   "cell_type": "code",
   "execution_count": null,
   "id": "5324f21d",
   "metadata": {},
   "outputs": [],
   "source": []
  },
  {
   "cell_type": "code",
   "execution_count": null,
   "id": "5f278375",
   "metadata": {},
   "outputs": [],
   "source": []
  }
 ],
 "metadata": {
  "kernelspec": {
   "display_name": "Python 3 (ipykernel)",
   "language": "python",
   "name": "python3"
  },
  "language_info": {
   "codemirror_mode": {
    "name": "ipython",
    "version": 3
   },
   "file_extension": ".py",
   "mimetype": "text/x-python",
   "name": "python",
   "nbconvert_exporter": "python",
   "pygments_lexer": "ipython3",
   "version": "3.11.7"
  }
 },
 "nbformat": 4,
 "nbformat_minor": 5
}
